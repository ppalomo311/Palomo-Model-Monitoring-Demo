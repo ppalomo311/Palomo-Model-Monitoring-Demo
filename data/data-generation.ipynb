{
 "cells": [
  {
   "cell_type": "code",
   "execution_count": 28,
   "metadata": {},
   "outputs": [],
   "source": [
    "import json\n",
    "import numpy as np\n",
    "import pandas as pd\n",
    "from faker import Faker"
   ]
  },
  {
   "cell_type": "code",
   "execution_count": 29,
   "metadata": {},
   "outputs": [],
   "source": [
    "# read in the data\n",
    "secrecy_df = pd.concat(\n",
    "    [\n",
    "        pd.read_csv(\"/workspace/data/source/normalized_train.csv\"),\n",
    "        pd.read_csv(\"/workspace/data/source/normalized_test.csv\"),\n",
    "    ]\n",
    ").sample(frac=1).reset_index(drop=True)\n"
   ]
  },
  {
   "cell_type": "code",
   "execution_count": 30,
   "metadata": {},
   "outputs": [
    {
     "data": {
      "text/html": [
       "<div>\n",
       "<style scoped>\n",
       "    .dataframe tbody tr th:only-of-type {\n",
       "        vertical-align: middle;\n",
       "    }\n",
       "\n",
       "    .dataframe tbody tr th {\n",
       "        vertical-align: top;\n",
       "    }\n",
       "\n",
       "    .dataframe thead th {\n",
       "        text-align: right;\n",
       "    }\n",
       "</style>\n",
       "<table border=\"1\" class=\"dataframe\">\n",
       "  <thead>\n",
       "    <tr style=\"text-align: right;\">\n",
       "      <th></th>\n",
       "      <th>label</th>\n",
       "      <th>text</th>\n",
       "      <th>featureText</th>\n",
       "    </tr>\n",
       "  </thead>\n",
       "  <tbody>\n",
       "    <tr>\n",
       "      <th>0</th>\n",
       "      <td>0</td>\n",
       "      <td>Similarly, you can use the FTR tool to find ou...</td>\n",
       "      <td>similarly you can use the ftr tool to find out...</td>\n",
       "    </tr>\n",
       "    <tr>\n",
       "      <th>1</th>\n",
       "      <td>0</td>\n",
       "      <td>Individual agencies that have elected to parti...</td>\n",
       "      <td>individual agencies that have elected to parti...</td>\n",
       "    </tr>\n",
       "    <tr>\n",
       "      <th>2</th>\n",
       "      <td>0</td>\n",
       "      <td>Laurel and Clara are reviewing this one - it m...</td>\n",
       "      <td>laurel and clara are reviewing this one it mon...</td>\n",
       "    </tr>\n",
       "    <tr>\n",
       "      <th>3</th>\n",
       "      <td>0</td>\n",
       "      <td>Janette Elbertson is going to handle the migra...</td>\n",
       "      <td>janette elbertson is going to handle the migra...</td>\n",
       "    </tr>\n",
       "    <tr>\n",
       "      <th>4</th>\n",
       "      <td>0</td>\n",
       "      <td>\"The magazine's got a  long list of contributo...</td>\n",
       "      <td>the magazines got a long list of contributors...</td>\n",
       "    </tr>\n",
       "  </tbody>\n",
       "</table>\n",
       "</div>"
      ],
      "text/plain": [
       "   label                                               text  \\\n",
       "0      0  Similarly, you can use the FTR tool to find ou...   \n",
       "1      0  Individual agencies that have elected to parti...   \n",
       "2      0  Laurel and Clara are reviewing this one - it m...   \n",
       "3      0  Janette Elbertson is going to handle the migra...   \n",
       "4      0  \"The magazine's got a  long list of contributo...   \n",
       "\n",
       "                                         featureText  \n",
       "0  similarly you can use the ftr tool to find out...  \n",
       "1  individual agencies that have elected to parti...  \n",
       "2  laurel and clara are reviewing this one it mon...  \n",
       "3  janette elbertson is going to handle the migra...  \n",
       "4   the magazines got a long list of contributors...  "
      ]
     },
     "execution_count": 30,
     "metadata": {},
     "output_type": "execute_result"
    }
   ],
   "source": [
    "secrecy_df.head()"
   ]
  },
  {
   "cell_type": "code",
   "execution_count": 6,
   "metadata": {},
   "outputs": [
    {
     "data": {
      "text/plain": [
       "Counter({0: 1007889, 1: 1196})"
      ]
     },
     "execution_count": 6,
     "metadata": {},
     "output_type": "execute_result"
    }
   ],
   "source": [
    "from collections import Counter\n",
    "Counter(secrecy_df[\"label\"].tolist())"
   ]
  },
  {
   "cell_type": "code",
   "execution_count": 31,
   "metadata": {},
   "outputs": [],
   "source": [
    "THRESHOLD = 0.7\n",
    "evaluation_information = [\n",
    "    {\n",
    "        \"evaluation_id\": \"Q1-evaluation\",\n",
    "        \"positive_probability\": 0.30,\n",
    "        \"total_communications\": 56785,\n",
    "        \"date\": \"2023-04-01\"\n",
    "    },\n",
    "    {\n",
    "        \"evaluation_id\": \"Q2-evaluation\", \n",
    "        \"positive_probability\": 0.28,\n",
    "        \"total_communications\": 64237,\n",
    "        \"date\": \"2023-07-01\"\n",
    "    }, \n",
    "    {\n",
    "        \"evaluation_id\": \"Q3-evaluation\",\n",
    "        \"positive_probability\": 0.32,\n",
    "        \"total_communications\": 58763,\n",
    "        \"date\": \"2023-10-01\"\n",
    "    }, \n",
    "    {\n",
    "        \"evaluation_id\": \"Q4-evaluation\", \n",
    "        \"positive_probability\": 0.05,\n",
    "        \"total_communications\": 72043,\n",
    "        \"date\": \"2024-01-01\"\n",
    "    }\n",
    "]\n",
    "comm_types = [\"alert\", \"no alert\"]\n",
    "\n",
    "positive_index = secrecy_df[secrecy_df[\"label\"] != 0].index\n",
    "negative_index = secrecy_df[secrecy_df[\"label\"] == 0].index"
   ]
  },
  {
   "cell_type": "code",
   "execution_count": 32,
   "metadata": {},
   "outputs": [
    {
     "name": "stdout",
     "output_type": "stream",
     "text": [
      "CPU times: user 2 μs, sys: 2 μs, total: 4 μs\n",
      "Wall time: 12.4 μs\n"
     ]
    }
   ],
   "source": [
    "%time\n",
    "\n",
    "# generate a beta distro with alpha=0.1 and beta=5 for negative confidence scores\n",
    "# generate a beta distro with alpha=5 and beta=0.1 for positive confidence scores\n",
    "# filter to ensure they don't violate the threshold logic\n",
    "import numpy as np\n",
    "negative_scores = [x for x in np.random.beta(0.15, 5, 100000) if x < THRESHOLD]\n",
    "positive_scores = [x for x in np.random.beta(5, 0.1, 100000) if x >= THRESHOLD]\n",
    "import random\n",
    "fake = Faker()\n",
    "# generate the evaluation results\n",
    "evaluation_results = {}\n",
    "for evaluation in evaluation_information:\n",
    "    # instantiate the quarter container\n",
    "    quarter = {\n",
    "        \"meta\": {\n",
    "            \"workflow\": evaluation[\"evaluation_id\"],\n",
    "            \"communications\": evaluation[\"total_communications\"],\n",
    "            \"date\": evaluation[\"date\"]\n",
    "        },\n",
    "        \"classifiers\": [\n",
    "            {\n",
    "                \"id\": 1,\n",
    "                \"name\": \"MODEL:smarsh-secrecy-en:secrecy-en-lr:1.2.0\",\n",
    "                \"threshold\": THRESHOLD,\n",
    "                \"labels\": [\"secrecy\",\"no\"]\n",
    "            }\n",
    "        ],\n",
    "        \"communications\": []\n",
    "    }\n",
    "    # generate the evaluation results\n",
    "    \n",
    "    for i in range(0, evaluation[\"total_communications\"]):\n",
    "        # print(f'comm_id: {i}')\n",
    "        comm_type = np.random.choice(comm_types, p=[evaluation[\"positive_probability\"], 1 - evaluation[\"positive_probability\"]])\n",
    "        # print(f'comm_type: {comm_type}')\n",
    "        sentence_count = np.random.randint(1, 4)\n",
    "        # print(f'sentence_count: {sentence_count}')\n",
    "        if comm_type == \"alert\":\n",
    "            sample_index = random.choices(positive_index, k=1) + random.choices(negative_index, k=sentence_count - 1)\n",
    "            index_with_probs = [\n",
    "                {\"index\": index, \"prob\": random.choice(positive_scores)} \n",
    "                if idx == 0 else {\"index\": index, \"prob\": random.choice(negative_scores)}\n",
    "                for idx, index in enumerate(sample_index)\n",
    "            ]\n",
    "        else:\n",
    "            sample_index = random.choices(negative_index, k=sentence_count)\n",
    "            index_with_probs = [{\"index\": index, \"prob\": random.choice(negative_scores)} for idx, index in enumerate(sample_index)]\n",
    "        features = []\n",
    "        for j, idx in enumerate(index_with_probs):\n",
    "            if \"Q4\" in evaluation[\"evaluation_id\"]:\n",
    "                sentence = secrecy_df.loc[idx[\"index\"], \"featureText\"] + fake.text(max_nb_chars=30).lower()\n",
    "            else:\n",
    "                sentence = secrecy_df.loc[idx[\"index\"], \"featureText\"]\n",
    "            features.append(\n",
    "                {\n",
    "                    \"recordIdentifier\": f'{i}.{j}',\n",
    "                    \"sentence\": sentence,\n",
    "                    \"classifiers\": [\n",
    "                        {\n",
    "                            \"id\": \"1\",\n",
    "                            \"confidence\": [1-idx[\"prob\"], idx[\"prob\"]]\n",
    "                        }\n",
    "                    ]\n",
    "                }\n",
    "            )\n",
    "        quarter[\"communications\"].append({\"messageId\": i, \"features\": features})\n",
    "            \n",
    "    evaluation_results[evaluation[\"evaluation_id\"]] = quarter  \n"
   ]
  },
  {
   "cell_type": "code",
   "execution_count": 9,
   "metadata": {},
   "outputs": [
    {
     "data": {
      "text/plain": [
       "[{'messageId': 0,\n",
       "  'features': [{'recordIdentifier': '0.0',\n",
       "    'sentence': 'marcusevans conference being held fulldatetoken and numtoken numtoken in new york cityHave either foot.',\n",
       "    'classifiers': [{'id': '1',\n",
       "      'confidence': [0.7624000043560349, 0.23759999564396508]}]},\n",
       "   {'recordIdentifier': '0.1',\n",
       "    'sentence': 'for more information about atm please visit our website at urltoken or call cynthia ashton at phonenumbertoken Who budget nation million.',\n",
       "    'classifiers': [{'id': '1',\n",
       "      'confidence': [0.5983980772197308, 0.40160192278026924]}]},\n",
       "   {'recordIdentifier': '0.2',\n",
       "    'sentence': 'we have the conversation toilet i think so i think we month decide by the block to be on it and i think that we need to we need to time those we want to obviously protest Threat must next.',\n",
       "    'classifiers': [{'id': '1',\n",
       "      'confidence': [0.7582191494395094, 0.24178085056049053]}]},\n",
       "   {'recordIdentifier': '0.3',\n",
       "    'sentence': ' democrats and environmentalists in response are stressing measures to prod manufacturers to design more energy efficient products from cars to air conditioners Drop laugh degree according.',\n",
       "    'classifiers': [{'id': '1',\n",
       "      'confidence': [0.4689418860380751, 0.5310581139619249]}]},\n",
       "   {'recordIdentifier': '0.4',\n",
       "    'sentence': 'rod i will leave it to you as to whether or not you want to send to stan as a first draft Very great himself will if.',\n",
       "    'classifiers': [{'id': '1',\n",
       "      'confidence': [0.5140650993152469, 0.48593490068475315]}]},\n",
       "   {'recordIdentifier': '0.5',\n",
       "    'sentence': 'la times sat numtoken numtoken state asks pricing curbs on numtoken firmsStep form drive tough lead.',\n",
       "    'classifiers': [{'id': '1',\n",
       "      'confidence': [0.8343080985790251, 0.16569190142097487]}]},\n",
       "   {'recordIdentifier': '0.6',\n",
       "    'sentence': 'check w futures team they month have one Information husband stuff.',\n",
       "    'classifiers': [{'id': '1',\n",
       "      'confidence': [0.677835478307701, 0.322164521692299]}]},\n",
       "   {'recordIdentifier': '0.7',\n",
       "    'sentence': 'bor ing College whether significant.',\n",
       "    'classifiers': [{'id': '1',\n",
       "      'confidence': [0.3492814101380135, 0.6507185898619865]}]},\n",
       "   {'recordIdentifier': '0.8',\n",
       "    'sentence': 'tax budget and accounting textTree left goal set.',\n",
       "    'classifiers': [{'id': '1',\n",
       "      'confidence': [0.7426563183980781, 0.25734368160192184]}]}]},\n",
       " {'messageId': 1,\n",
       "  'features': [{'recordIdentifier': '1.0',\n",
       "    'sentence': ' the most significant cooling was expected in the northwest where heating demand was forecast to climb to above normal levels by weeks end Subject skin west tax.',\n",
       "    'classifiers': [{'id': '1',\n",
       "      'confidence': [0.41314878946936484, 0.5868512105306352]}]}]},\n",
       " {'messageId': 2,\n",
       "  'features': [{'recordIdentifier': '2.0',\n",
       "    'sentence': 'argentina Until figure week individual.',\n",
       "    'classifiers': [{'id': '1',\n",
       "      'confidence': [0.3561643411538822, 0.6438356588461178]}]},\n",
       "   {'recordIdentifier': '2.1',\n",
       "    'sentence': 'chips and will enable the company to provide customers with complete mac transceiver solutions that will drive down the cost of gigabit ethernet in next generation servers workstations and desktop computers Sell yard option.',\n",
       "    'classifiers': [{'id': '1',\n",
       "      'confidence': [0.899206371064419, 0.10079362893558097]}]},\n",
       "   {'recordIdentifier': '2.2',\n",
       "    'sentence': 'sophomore forward james thomas had numtoken points and six rebounds while fredshirt reshman center jason klotz added numtoken points and a team high nine boards Effect threat beat beyond.',\n",
       "    'classifiers': [{'id': '1',\n",
       "      'confidence': [0.41119214130376813, 0.5888078586962319]}]},\n",
       "   {'recordIdentifier': '2.3',\n",
       "    'sentence': ' when cooking True lose party.',\n",
       "    'classifiers': [{'id': '1',\n",
       "      'confidence': [0.7967743918555301, 0.20322560814446983]}]}]},\n",
       " {'messageId': 3,\n",
       "  'features': [{'recordIdentifier': '3.0',\n",
       "    'sentence': 'is the production report located at o portland westdesk scheduling physicalandbookoutsummary v7 numtoken westprod Decade view improve report.',\n",
       "    'classifiers': [{'id': '1',\n",
       "      'confidence': [0.6828732416735186, 0.31712675832648135]}]},\n",
       "   {'recordIdentifier': '3.1',\n",
       "    'sentence': 'they are back Onto five trip.',\n",
       "    'classifiers': [{'id': '1',\n",
       "      'confidence': [0.4708250666024124, 0.5291749333975876]}]},\n",
       "   {'recordIdentifier': '3.2',\n",
       "    'sentence': 'i start with a numtoken numtoken meeting houston time so i should be in my car from numtoken numtoken to about numtoken numtoken Particularly TV from put he.',\n",
       "    'classifiers': [{'id': '1',\n",
       "      'confidence': [0.3568583577832738, 0.6431416422167262]}]},\n",
       "   {'recordIdentifier': '3.3',\n",
       "    'sentence': ' adds aegon exposure in ninth paragraph Course fine whole others.',\n",
       "    'classifiers': [{'id': '1',\n",
       "      'confidence': [0.5335712803822046, 0.4664287196177955]}]},\n",
       "   {'recordIdentifier': '3.4',\n",
       "    'sentence': 'ill get the senior guys together on dai for the weekly ees timetoken uk timetoken us video conference call so you and janet can at least speak to them Car institution simple one.',\n",
       "    'classifiers': [{'id': '1',\n",
       "      'confidence': [0.41999829263750577, 0.5800017073624942]}]},\n",
       "   {'recordIdentifier': '3.5',\n",
       "    'sentence': 'um you know are being consistent across the different candidates that are being discussed and not were asking Fish your identify newspaper.',\n",
       "    'classifiers': [{'id': '1',\n",
       "      'confidence': [0.8580100516242655, 0.14198994837573453]}]}]},\n",
       " {'messageId': 4,\n",
       "  'features': [{'recordIdentifier': '4.0',\n",
       "    'sentence': 'u go if ever one about so watch bars on ten one While sit feel skin.',\n",
       "    'classifiers': [{'id': '1',\n",
       "      'confidence': [0.36363746432629096, 0.636362535673709]}]},\n",
       "   {'recordIdentifier': '4.1',\n",
       "    'sentence': 'fogdog barks again or one of its founders does anyway Position born side president.',\n",
       "    'classifiers': [{'id': '1',\n",
       "      'confidence': [0.7942365265930555, 0.2057634734069445]}]},\n",
       "   {'recordIdentifier': '4.2',\n",
       "    'sentence': 'northwest aluminum company the dalles or nwa nwaManagement role high moment.',\n",
       "    'classifiers': [{'id': '1',\n",
       "      'confidence': [0.30691653714161704, 0.693083462858383]}]},\n",
       "   {'recordIdentifier': '4.3',\n",
       "    'sentence': 'nopeFloor last unit usually.',\n",
       "    'classifiers': [{'id': '1',\n",
       "      'confidence': [0.6897462971723494, 0.31025370282765063]}]},\n",
       "   {'recordIdentifier': '4.4',\n",
       "    'sentence': 'synthetic lease financing with a commercial bankCountry newspaper if.',\n",
       "    'classifiers': [{'id': '1',\n",
       "      'confidence': [0.823356674433115, 0.17664332556688497]}]},\n",
       "   {'recordIdentifier': '4.5',\n",
       "    'sentence': 'i will take suggestions until dai and then i will be making reservations Doctor dark true several too.',\n",
       "    'classifiers': [{'id': '1',\n",
       "      'confidence': [0.813320432322189, 0.18667956767781096]}]}]}]"
      ]
     },
     "execution_count": 9,
     "metadata": {},
     "output_type": "execute_result"
    }
   ],
   "source": [
    "evaluation_results.get(\"Q4-evaluation\")[\"communications\"][:5]"
   ]
  },
  {
   "cell_type": "code",
   "execution_count": 33,
   "metadata": {},
   "outputs": [],
   "source": [
    "with open(\"/workspace/data/evaluation_results_nested.json\", \"w\") as f:\n",
    "    json.dump(evaluation_results, f)"
   ]
  },
  {
   "cell_type": "code",
   "execution_count": 29,
   "metadata": {},
   "outputs": [],
   "source": []
  },
  {
   "cell_type": "code",
   "execution_count": 32,
   "metadata": {},
   "outputs": [
    {
     "data": {
      "text/plain": [
       "0.006305485647262274"
      ]
     },
     "execution_count": 32,
     "metadata": {},
     "output_type": "execute_result"
    }
   ],
   "source": [
    "random.choice(s)"
   ]
  },
  {
   "cell_type": "code",
   "execution_count": 2,
   "metadata": {},
   "outputs": [
    {
     "data": {
      "image/png": "[encoded data removed]",
      "text/plain": [
       "<Figure size 640x480 with 1 Axes>"
      ]
     },
     "metadata": {},
     "output_type": "display_data"
    }
   ],
   "source": [
    "import numpy as np\n",
    "s = np.random.beta(5, 0.1, 1000)\n",
    "import matplotlib.pyplot as plt\n",
    "plt.hist(s, 100, density=True)\n",
    "plt.show()"
   ]
  },
  {
   "cell_type": "code",
   "execution_count": 55,
   "metadata": {},
   "outputs": [
    {
     "data": {
      "text/plain": [
       "[{'recordIdentifier': '0.0',\n",
       "  'sentence': 'dont tell shank i told you ',\n",
       "  'classifiers': [{'id': '1',\n",
       "    'confidence': [0.23218912825740212, 0.7678108717425979]}]},\n",
       " {'recordIdentifier': '0.1',\n",
       "  'sentence': 'the term data are the way the deal was entered with deal entry deal blotter or eol bridge signed and confirmed ',\n",
       "  'classifiers': [{'id': '1',\n",
       "    'confidence': [0.6384768107900185, 0.3615231892099815]}]},\n",
       " {'recordIdentifier': '0.2',\n",
       "  'sentence': 'it can be as long as you keep these pointers in mind ',\n",
       "  'classifiers': [{'id': '1',\n",
       "    'confidence': [0.3545821594052815, 0.6454178405947185]}]},\n",
       " {'recordIdentifier': '1.0',\n",
       "  'sentence': 'hotelu okolo godziny numtoken czasu lokalnego czyli godziny numtoken numtoken wieczorem czasu',\n",
       "  'classifiers': [{'id': '1',\n",
       "    'confidence': [0.5804730085964007, 0.4195269914035993]}]},\n",
       " {'recordIdentifier': '1.1',\n",
       "  'sentence': 'ten three nametoken',\n",
       "  'classifiers': [{'id': '1',\n",
       "    'confidence': [0.559584532328686, 0.440415467671314]}]},\n",
       " {'recordIdentifier': '1.2',\n",
       "  'sentence': 'htickyvbn7ppm7w777exffoeliqlpxnctiraitodwyyoy7piyltntkq77fkz',\n",
       "  'classifiers': [{'id': '1',\n",
       "    'confidence': [0.763427406544257, 0.23657259345574297]}]},\n",
       " {'recordIdentifier': '2.0',\n",
       "  'sentence': 'vince kaminski managing director stinson gibner vice president grant masson vice president p v krishnarao director paulo issler manager',\n",
       "  'classifiers': [{'id': '1',\n",
       "    'confidence': [0.458344569822031, 0.541655430177969]}]},\n",
       " {'recordIdentifier': '2.1',\n",
       "  'sentence': 'cng thus will be able to eliminate its standing must flow ',\n",
       "  'classifiers': [{'id': '1',\n",
       "    'confidence': [0.33943595184831477, 0.6605640481516852]}]},\n",
       " {'recordIdentifier': '2.2',\n",
       "  'sentence': ' emailtoken julie e emailtoken john d emailtoken jon emailtoken nick emailtoken kelley emailtoken jenny emailtoken mitzie',\n",
       "  'classifiers': [{'id': '1',\n",
       "    'confidence': [0.4110688572269031, 0.5889311427730969]}]},\n",
       " {'recordIdentifier': '2.3',\n",
       "  'sentence': 'officialization and sending of feeds to it numtoken numtoken all export of preliminary information numtoken numtoken numtoken numtoken support on explanations of violations notification memos',\n",
       "  'classifiers': [{'id': '1',\n",
       "    'confidence': [0.34195531184770556, 0.6580446881522944]}]}]"
      ]
     },
     "execution_count": 55,
     "metadata": {},
     "output_type": "execute_result"
    }
   ],
   "source": [
    "evaluation_results.get(\"Q1-evaluation\").get(\"results\")[:10]"
   ]
  },
  {
   "cell_type": "code",
   "execution_count": 5,
   "metadata": {},
   "outputs": [
    {
     "data": {
      "text/plain": [
       "24"
      ]
     },
     "execution_count": 5,
     "metadata": {},
     "output_type": "execute_result"
    }
   ],
   "source": [
    "import plotly.express as px\n",
    "\n",
    "df = px.data.gapminder().query(\"continent=='Oceania'\")\n",
    "\n",
    "df.shape[0]"
   ]
  },
  {
   "cell_type": "code",
   "execution_count": 8,
   "metadata": {},
   "outputs": [],
   "source": [
    "# get page html with bs4\n",
    "\n",
    "from bs4 import BeautifulSoup as bs\n",
    "import requests\n",
    "\n",
    "url = \"https://www.shieldfc.com/resources/blog/the-byom-advantage-maximizing-ai-investments-in-financial-compliance/\"\n",
    "headers = {\n",
    "    'User-Agent': 'Mozilla/5.0 (Windows NT 10.0; Win64; x64) AppleWebKit/537.36 (KHTML, like Gecko) Chrome/58.0.3029.110 Safari/537.3'\n",
    "}\n",
    "\n",
    "response = requests.get(url, headers=headers)\n",
    "\n",
    "soup = bs(response.content, \"html.parser\")"
   ]
  },
  {
   "cell_type": "code",
   "execution_count": 27,
   "metadata": {},
   "outputs": [
    {
     "data": {
      "text/plain": [
       "[]"
      ]
     },
     "execution_count": 27,
     "metadata": {},
     "output_type": "execute_result"
    }
   ],
   "source": [
    "[print(x) for x in (soup(text=lambda t: \"Lucena\" in t.text))]"
   ]
  }
 ],
 "metadata": {
  "kernelspec": {
   "display_name": "Python 3",
   "language": "python",
   "name": "python3"
  },
  "language_info": {
   "codemirror_mode": {
    "name": "ipython",
    "version": 3
   },
   "file_extension": ".py",
   "mimetype": "text/x-python",
   "name": "python",
   "nbconvert_exporter": "python",
   "pygments_lexer": "ipython3",
   "version": "3.12.3"
  }
 },
 "nbformat": 4,
 "nbformat_minor": 2
}
