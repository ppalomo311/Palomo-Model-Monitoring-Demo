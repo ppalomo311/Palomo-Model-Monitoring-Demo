{
 "cells": [
  {
   "cell_type": "code",
   "execution_count": null,
   "metadata": {},
   "outputs": [],
   "source": [
    "import pandas as pd\n",
    "import json\n",
    "from nltk import ngrams\n",
    "from joblib import load"
   ]
  },
  {
   "cell_type": "code",
   "execution_count": 5,
   "metadata": {},
   "outputs": [
    {
     "data": {
      "text/plain": [
       "'{\"$schema\": \"http://json-schema.org/schema#\", \"type\": \"object\", \"properties\": {\"classifers\": {\"type\": \"array\", \"items\": {\"type\": \"object\", \"properties\": {\"id\": {\"type\": \"integer\"}, \"name\": {\"type\": \"string\"}, \"labels\": {\"type\": \"array\", \"items\": {\"type\": \"string\"}}}, \"required\": [\"id\", \"labels\", \"name\"]}}, \"results\": {\"type\": \"array\", \"items\": {\"type\": \"object\", \"properties\": {\"recordIdentifier\": {\"type\": \"string\"}, \"sentence\": {\"type\": \"string\"}, \"classifiers\": {\"type\": \"array\", \"items\": {\"type\": \"object\", \"properties\": {\"id\": {\"type\": \"integer\"}, \"confidence\": {\"type\": \"array\", \"items\": {\"type\": \"number\"}}}, \"required\": [\"confidence\", \"id\"]}}}, \"required\": [\"classifiers\", \"recordIdentifier\", \"sentence\"]}}}, \"required\": [\"classifers\", \"results\"]}'"
      ]
     },
     "execution_count": 5,
     "metadata": {},
     "output_type": "execute_result"
    }
   ],
   "source": [
    "from genson import SchemaBuilder\n",
    "import json\n",
    "\n",
    "with open('/workspace/data/source/example-api-json.json', 'r') as fl:\n",
    "    json_example = json.load(fl)\n",
    "\n",
    "builder = SchemaBuilder()\n",
    "builder.add_object(json_example)\n",
    "builder.to_json()\n"
   ]
  },
  {
   "cell_type": "markdown",
   "metadata": {},
   "source": [
    "# Generating monitoring data\n",
    "\n",
    "## Context\n",
    "\n",
    "The aim of this demo is to show how Scenario evaluation data, collected over time, can be used to create a model monitoring dashboard. The dashboard should show the following as a minimum view inot model behaviour:\n",
    "\n",
    "1. *Predicted confidence score distrobutions over time*  \n",
    "Plan is to simulate a scenario where there is a drastic drop in the frequency of secrecy \n",
    "2. *ngram histogram over time*  \n",
    "This might have to be restricted to positive ngrams only for visual purposes\n",
    "\n",
    "As a stretch, it might be valuable to show how confidence score distrobutions change in response to a pipeline change (e.g. incorrect ngram range causes bi-grams to be dropped from the inference inputs).\n",
    "\n",
    "## Methodology\n",
    "\n",
    "To simulate a relevant business process for monitoring material behviour of the scenario model, we will leverage the secrecy test dataset. We will control the confidence score distribution by over and under-sampling the positive language of interest in the test set. When we over-sample positives, we expect the confidence score distribution to be skewed toward higher scores, while under-sampling will have the opposite effect.\n",
    "\n",
    "### Temporal monitoring\n",
    "\n",
    "In the business context we will use for the demo, the hypothetical client has built a dashboard that ingests Scenario evaluations, and visualises confidence score distrobutions, along with ngram histograms. Scenario evaluations are run manually, but can be automatically ingested by the dashboard app. We will visualise the distrobutions quarterly to give a termoral angle to the monitoring."
   ]
  },
  {
   "cell_type": "code",
   "execution_count": null,
   "metadata": {},
   "outputs": [],
   "source": [
    "# load the secrecy model for inference\n",
    "model = load(f\"../models/{MODEL_NAME}_pipeline.joblib\")"
   ]
  }
 ],
 "metadata": {
  "kernelspec": {
   "display_name": "Python 3",
   "language": "python",
   "name": "python3"
  },
  "language_info": {
   "codemirror_mode": {
    "name": "ipython",
    "version": 3
   },
   "file_extension": ".py",
   "mimetype": "text/x-python",
   "name": "python",
   "nbconvert_exporter": "python",
   "pygments_lexer": "ipython3",
   "version": "3.12.3"
  }
 },
 "nbformat": 4,
 "nbformat_minor": 2
}
